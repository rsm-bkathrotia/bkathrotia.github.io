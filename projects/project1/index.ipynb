{
  "cells": [
    {
      "cell_type": "raw",
      "metadata": {},
      "source": [
        "---\n",
        "title: Homework 1\n",
        "subtitle: p-value\n",
        "author: Bansari Kathrotia\n",
        "date: 4/5/2024\n",
        "toc: true\n",
        "---"
      ],
      "id": "47d6be2a"
    },
    {
      "cell_type": "code",
      "metadata": {},
      "source": [
        "import pandas as pd"
      ],
      "id": "b2195aff",
      "execution_count": null,
      "outputs": []
    }
  ],
  "metadata": {
    "kernelspec": {
      "display_name": "Python 3",
      "language": "python",
      "name": "python3"
    }
  },
  "nbformat": 4,
  "nbformat_minor": 5
}