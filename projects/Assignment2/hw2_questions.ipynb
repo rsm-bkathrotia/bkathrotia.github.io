{
  "cells": [
    {
      "cell_type": "raw",
      "metadata": {},
      "source": [
        "---\n",
        "title: \"Poisson Regression Examples\"\n",
        "author: \"Bansari Kathrotia\"\n",
        "date: today\n",
        "callout-appearance: minimal # this hides the blue \"i\" icon on .callout-notes\n",
        "editor_options: \n",
        "  chunk_output_type: console\n",
        "---"
      ],
      "id": "0ffd636e"
    },
    {
      "cell_type": "markdown",
      "metadata": {},
      "source": [
        "## Blueprinty Case Study\n",
        "\n",
        "### Introduction\n",
        "\n",
        "Blueprinty is a small firm that makes software for developing blueprints specifically for submitting patent applications to the US patent office. Their marketing team would like to make the claim that patent applicants using Blueprinty's software are more successful in getting their patent applications approved. Ideal data to study such an effect might include the success rate of patent applications before using Blueprinty's software and after using it. unfortunately, such data is not available. \n",
        "\n",
        "However, Blueprinty has collected data on 1,500 mature (non-startup) engineering firms. The data include each firm's number of patents awarded over the last 5 years, regional location, age since incorporation, and whether or not the firm uses Blueprinty's software. The marketing team would like to use this data to make the claim that firms using Blueprinty's software are more successful in getting their patent applications approved.\n",
        "\n",
        "\n",
        "### Data\n",
        "\n",
        "_todo: Read in data._\n"
      ],
      "id": "f1e79240"
    },
    {
      "cell_type": "code",
      "metadata": {
        "message": false
      },
      "source": [
        "#| echo: false\n",
        "\n",
        "import pandas as pd\n",
        "import numpy as np\n",
        "import matplotlib.pyplot as plt\n",
        "\n",
        "blueprinty = pd.read_csv(\"blueprinty.csv\")\n",
        "blueprinty"
      ],
      "id": "3df4e156",
      "execution_count": null,
      "outputs": []
    },
    {
      "cell_type": "code",
      "metadata": {
        "message": true
      },
      "source": [
        "#| echo: true\n",
        "\n",
        "# Drop the 'Unnamed: 0' column\n",
        "blueprinty = blueprinty.drop(columns=['Unnamed: 0'])\n",
        "blueprinty"
      ],
      "id": "06594de8",
      "execution_count": null,
      "outputs": []
    },
    {
      "cell_type": "markdown",
      "metadata": {},
      "source": [
        "_todo: Compare histograms and means of number of patents by customer status. What do you observe?_\n",
        "\n",
        "### Analysis\n"
      ],
      "id": "d60b13e4"
    },
    {
      "cell_type": "code",
      "metadata": {
        "message": true
      },
      "source": [
        "#| echo: false\n",
        "\n",
        "non_customers = blueprinty[blueprinty['iscustomer'] == 0]\n",
        "customers = blueprinty[blueprinty['iscustomer'] == 1]\n",
        "\n",
        "mean_non_customers = non_customers['patents'].mean()\n",
        "mean_customers = customers['patents'].mean()\n",
        "\n",
        "# First Plot: Non-Customers\n",
        "plt.figure(figsize=(8, 5))\n",
        "plt.hist(non_customers['patents'], bins=20, color='blue', alpha=0.7)\n",
        "plt.title('Histogram of Patents (Non-Customers)')\n",
        "plt.xlabel('Number of Patents')\n",
        "plt.ylabel('Frequency')\n",
        "plt.show()\n",
        "print(f\"Mean Number of Patents for Non-Customers: {mean_non_customers:.2f}\")"
      ],
      "id": "ee40e3cd",
      "execution_count": null,
      "outputs": []
    },
    {
      "cell_type": "markdown",
      "metadata": {},
      "source": [
        "The histogram for non-customers reveals a right-skewed distribution of patent counts, where a significant majority of non-customers have fewer patents, but there are outliers with higher numbers. This skewness suggests that while few non-customers are very innovative, most maintain a lower profile in terms of patent production. The mean number of patents for non-customers is approximately 3.62, underscoring the fact that non-customers generally have fewer patents.\n"
      ],
      "id": "0e620f72"
    },
    {
      "cell_type": "code",
      "metadata": {
        "message": true
      },
      "source": [
        "#| echo: false\n",
        "\n",
        "# Second Plot: Customers\n",
        "plt.figure(figsize=(8, 5))\n",
        "plt.hist(customers['patents'], bins=20, color='green', alpha=0.7)\n",
        "plt.title('Histogram of Patents (Customers)')\n",
        "plt.xlabel('Number of Patents')\n",
        "plt.ylabel('Frequency')\n",
        "plt.show()\n",
        "print(f\"Mean Number of Patents for Customers: {mean_customers:.2f}\")"
      ],
      "id": "c187f262",
      "execution_count": null,
      "outputs": []
    },
    {
      "cell_type": "markdown",
      "metadata": {},
      "source": [
        "In contrast, the histogram for customers also shows a right-skewed distribution but with a noticeable shift towards higher counts of patents. This indicates that customers are generally more active in patenting than non-customers. The mean number of patents for customers, at approximately 4.09, is higher than that of non-customers. This might imply that customer status could be associated with higher innovation levels or that entities with higher patent activities are more likely to be customers.\n",
        "\n",
        "Blueprinty customers are not selected at random. It may be important to account for systematic differences in the age and regional location of customers vs non-customers.\n",
        "\n",
        "_todo: Compare regions and ages by customer status. What do you observe?_\n"
      ],
      "id": "94a926cb"
    },
    {
      "cell_type": "code",
      "metadata": {
        "message": true
      },
      "source": [
        "#| echo: false\n",
        "\n",
        "# Age Analysis: Boxplot for Age by Customer Status\n",
        "plt.figure(figsize=(8, 6))\n",
        "blueprinty.boxplot(column='age', by='iscustomer', grid=False)\n",
        "plt.title('Age Distribution by Customer Status')\n",
        "plt.xlabel('Customer Status (0=Non-Customer, 1=Customer)')\n",
        "plt.ylabel('Age')\n",
        "plt.suptitle('')\n",
        "plt.show()\n",
        "\n",
        "# Mean age comparison\n",
        "mean_age_non_customers = non_customers['age'].mean()\n",
        "mean_age_customers = customers['age'].mean()\n",
        "\n",
        "# Region Analysis: Frequency by Region and Customer Status\n",
        "region_distribution = blueprinty.groupby(['iscustomer', 'region']).size().unstack(fill_value=0)\n",
        "\n",
        "(mean_age_non_customers, mean_age_customers, region_distribution)"
      ],
      "id": "b4256f81",
      "execution_count": null,
      "outputs": []
    },
    {
      "cell_type": "markdown",
      "metadata": {},
      "source": [
        "#### Observations:\n",
        "- The Northeast region has the highest overall number of entities, both customers and non-customers.\n",
        "- Customers form a smaller proportion of the total in each region, but the disparity in numbers between customers and non-customers varies by region.\n",
        "\n",
        "The younger average age of customers might indicate that younger entities (or individuals) are more likely to become customers, possibly due to newer businesses being more inclined to engage with the offerings. The regional analysis shows that while all regions have more non-customers than customers, the Northeast stands out with a relatively higher number of customers, suggesting regional variations in customer acquisition or market penetration strategies.\n",
        "\n",
        "These insights could be used to tailor regional marketing strategies or to explore further why younger demographics are more represented among customers.\n",
        "\n",
        "### Estimation of Simple Poisson Model\n",
        "\n",
        "Since our outcome variable of interest can only be small integer values per a set unit of time, we can use a Poisson density to model the number of patents awarded to each engineering firm over the last 5 years. We start by estimating a simple Poisson model via Maximum Likelihood.\n",
        "\n",
        "_todo: Write down mathematically the likelihood for_ $Y \\sim \\text{Poisson}(\\lambda)$. Note that $f(Y|\\lambda) = e^{-\\lambda}\\lambda^Y/Y!$.\n",
        "\n",
        "_todo: Code the likelihood (or log-likelihood) function for the Poisson model. This is a function of lambda and Y. For example:_\n",
        "\n",
        "```\n",
        "poisson_loglikelihood <- function(lambda, Y){\n",
        "   ...\n",
        "}\n",
        "```\n"
      ],
      "id": "1565082f"
    },
    {
      "cell_type": "code",
      "metadata": {
        "message": true
      },
      "source": [
        "#| echo: false\n",
        "\n",
        "def poisson_loglikelihood(lambda_, Y):\n",
        "    \"\"\"\n",
        "    Calculate the log-likelihood of observing data Y under a Poisson distribution with rate lambda_.\n",
        "    \n",
        "    Parameters:\n",
        "        lambda_ (float): The rate parameter of the Poisson distribution.\n",
        "        Y (array-like): Observed count data.\n",
        "    \n",
        "    Returns:\n",
        "        float: The log-likelihood value.\n",
        "    \"\"\"\n",
        "    return np.sum(-lambda_ + Y * np.log(lambda_) - np.log(np.math.factorial(Y)))"
      ],
      "id": "042abf9d",
      "execution_count": null,
      "outputs": []
    },
    {
      "cell_type": "markdown",
      "metadata": {},
      "source": [
        "_todo: Use your function to plot lambda on the horizontal axis and the likelihood (or log-likelihood) on the vertical axis for a range of lambdas (use the observed number of patents as the input for Y)._\n"
      ],
      "id": "3e4e072c"
    },
    {
      "cell_type": "code",
      "metadata": {
        "message": true
      },
      "source": [
        "#| echo: true\n",
        "\n",
        "from scipy.special import factorial\n",
        "\n",
        "# Extracting the patent data\n",
        "Y = blueprinty['patents'].values\n",
        "\n",
        "# Define a range for lambda, from slightly above 0 to a bit beyond the maximum observed value of patents\n",
        "lambda_range = np.linspace(0.1, Y.max() + 5, 300)\n",
        "\n",
        "# Redefine the poisson log-likelihood function using scipy's factorial for vectorized operations\n",
        "def poisson_loglikelihood(lambda_, Y):\n",
        "    return np.sum(-lambda_ + Y * np.log(lambda_) - np.log(factorial(Y)))\n",
        "\n",
        "# Recalculate the log-likelihood for each lambda\n",
        "log_likelihoods = [poisson_loglikelihood(l, Y) for l in lambda_range]\n",
        "\n",
        "\n",
        "# Plotting the log-likelihood vs lambda\n",
        "plt.figure(figsize=(10, 6))\n",
        "plt.plot(lambda_range, log_likelihoods, label='Log-Likelihood')\n",
        "plt.title('Log-Likelihood of Poisson Model vs. Lambda')\n",
        "plt.xlabel('Lambda')\n",
        "plt.ylabel('Log-Likelihood')\n",
        "plt.grid(True)\n",
        "plt.legend()\n",
        "plt.show()"
      ],
      "id": "c0a5888d",
      "execution_count": null,
      "outputs": []
    },
    {
      "cell_type": "markdown",
      "metadata": {},
      "source": [
        "#### Observations:\n",
        "- Shape: The curve typically shows a peak, indicating the value of λ that maximizes the log-likelihood. This value can be considered as the most likely estimate of λ given the observed data.\n",
        "\n",
        "#### Interpretation:\n",
        "- The peak of the log-likelihood curve provides an insight into the most probable rate of patents per firm over the last 5 years, assuming a Poisson distribution.\n",
        "This graphical analysis is useful in understanding the behavior of the likelihood as λ changes and helps in choosing an appropriate λ for further statistical analysis or modeling.\n",
        "\n",
        "_todo: If you're feeling mathematical, take the first derivative of your likelihood or log-likelihood, set it equal to zero and solve for lambda. You will find lambda_mle is Ybar, which \"feels right\" because the mean of a Poisson distribution is lambda._\n",
        "\n",
        "<p>To derive the Maximum Likelihood Estimator (MLE) for <i>&lambda;</i> in a Poisson distribution, we begin with the log-likelihood function and find the value of <i>&lambda;</i> that maximizes this function. The log-likelihood for the Poisson distribution given <i>Y</i> and <i>&lambda;</i> is:</p>\n",
        "\n",
        "<p><i>&ell;(&lambda;) = &sum;<sub>i=1</sub><sup>n</sup> (-&lambda; + Y<sub>i</sub> &middot; log(&lambda;) - log(Y<sub>i</sub>!))</i></p>\n",
        "\n",
        "<p>Where <i>n</i> is the number of observations.</p>\n",
        "\n",
        "<h4>First Derivative of the Log-Likelihood</h4>\n",
        "\n",
        "<p>To find the maximum, we take the derivative of the log-likelihood with respect to <i>&lambda;</i> and set it to zero. The derivative is:</p>\n",
        "\n",
        "<p><i>d&ell;/d&lambda; = &sum;<sub>i=1</sub><sup>n</sup> (-1 + Y<sub>i</sub> / &lambda;)</i></p>\n",
        "\n",
        "<p>Setting this derivative equal to zero for maximization:</p>\n",
        "\n",
        "<p><i>-n + &sum;<sub>i=1</sub><sup>n</sup> Y<sub>i</sub> / &lambda; = 0</i></p>\n",
        "<p><i>&lambda; = (&sum;<sub>i=1</sub><sup>n</sup> Y<sub>i</sub>) / n</i></p>\n",
        "\n",
        "<h4>Solution for &lambda;</h4>\n",
        "\n",
        "<p>This result shows that the MLE for <i>&lambda;</i>, <i>&lambda;<sub>MLE</sub></i>, is the sample mean <i>&#780;Y</i> of the observed data:</p>\n",
        "\n",
        "<p><i>&lambda;<sub>MLE</sub> = &#780;Y</i></p>\n",
        "\n",
        "<p>This is intuitively satisfying as the mean of a Poisson distribution is <i>&lambda;</i>, and the MLE estimates the parameter such that the observed mean is the most likely estimate under the assumed model.</p>\n"
      ],
      "id": "a66f1804"
    },
    {
      "cell_type": "code",
      "metadata": {
        "message": true
      },
      "source": [
        "#| echo: true\n",
        "\n",
        "# Calculate lambda MLE, which should be the mean of Y\n",
        "lambda_mle = Y.mean()\n",
        "\n",
        "lambda_mle"
      ],
      "id": "2b412c70",
      "execution_count": null,
      "outputs": []
    },
    {
      "cell_type": "markdown",
      "metadata": {},
      "source": [
        "<p>The calculated Maximum Likelihood Estimate (MLE) for <i>&lambda;</i>, which is <i>&lambda;<sub>MLE</sub></i>, is approximately 3.685. This confirms our derivation: the MLE of <i>&lambda;</i> for a Poisson distribution is indeed the sample mean of the observed counts <i>Y</i>, representing the average number of patents awarded per firm over the last 5 years.</p>\n",
        "\n",
        "\n",
        "_todo: Find the MLE by optimizing your likelihood function with optim() in R or sp.optimize() in Python._\n"
      ],
      "id": "31cd6b05"
    },
    {
      "cell_type": "code",
      "metadata": {
        "message": true
      },
      "source": [
        "#| echo: false\n",
        "\n",
        "from scipy.optimize import minimize\n",
        "\n",
        "# Redefine the poisson log-likelihood function to accept lambda as the first argument\n",
        "def neg_poisson_loglikelihood(lambda_, Y):\n",
        "    # We will use np.sum(np.log(factorial(Y))) which is a constant to avoid recomputation\n",
        "    # as it does not affect the optimization process\n",
        "    return -np.sum(-lambda_ + Y * np.log(lambda_)) + np.sum(np.log(factorial(Y)))\n",
        "\n",
        "# The initial guess for lambda could be the sample mean of Y, or just 1 as a neutral starting point\n",
        "initial_lambda = Y.mean()\n",
        "\n",
        "# We will use the minimize function to find the MLE for lambda\n",
        "result = minimize(neg_poisson_loglikelihood, initial_lambda, args=(Y,))\n",
        "\n",
        "# The result of the optimization will be stored in result.x\n",
        "lambda_mle = result.x[0]\n",
        "lambda_mle, result.success  # Show the MLE and if the optimization was successful"
      ],
      "id": "63c11cb3",
      "execution_count": null,
      "outputs": []
    },
    {
      "cell_type": "markdown",
      "metadata": {},
      "source": [
        "<h3>Explanation</h3>\n",
        "<p>We used a Poisson regression model to understand the distribution of patents across different engineering firms over the last 5 years. The Poisson model is appropriate here because the number of patents is count data, typically non-negative integers, and we're considering an interval of time.</p>\n",
        "<p>The Poisson distribution is characterized by its rate parameter, <i>&lambda;</i>, which represents the average number of events (patents) in a given time frame. The key property of a Poisson distribution is that its mean and variance are both equal to <i>&lambda;</i>.</p>\n",
        "<p>We aimed to estimate this <i>&lambda;</i> using the method of Maximum Likelihood Estimation (MLE). The MLE is a statistical method for estimating the parameters of a model. It works by finding the parameter values that make the observed data most probable.</p>\n",
        "\n",
        "<h3>Mathematical Derivation</h3>\n",
        "<p>We derived mathematically that the MLE for <i>&lambda;</i> is the sample mean (<i>&#780;Y</i>) of our observed patent counts. This derivation was based on setting the first derivative of the log-likelihood function to zero, solving for <i>&lambda;</i>, and demonstrating that <i>&lambda;<sub>MLE</sub></i> equates to the sample mean.</p>\n",
        "\n",
        "<h3>Numerical Optimization</h3>\n",
        "<p>We then used numerical optimization to confirm this result. Because Python's optimization functions typically minimize rather than maximize, we minimized the negative of the log-likelihood function. The result from the <code>scipy.optimize</code> function confirmed that the estimated <i>&lambda;</i> is indeed approximately equal to the sample mean, which validates our earlier mathematical derivation.</p>\n",
        "\n",
        "<h3>Interpretation</h3>\n",
        "<p>The interpretation of this result is that the most likely average rate of patent awards across all engineering firms is around 3.685 patents per firm over the last 5 years. This is an intuitive result because, in a Poisson distribution, the rate <i>&lambda;</i> is the expected count per interval. Therefore, estimating <i>&lambda;</i> as the average observed count aligns with our understanding of the distribution's properties.</p>\n",
        "<p>Moreover, this value of <i>&lambda;</i> could be used to predict the expected number of patent awards for similar engineering firms, under similar conditions, over a 5-year period. It also serves as a benchmark for comparing individual firm performance against the average.</p>\n",
        "<p>In practice, this Poisson model might be the basis for more complex analyses, such as Poisson regression models that relate <i>&lambda;</i> to other explanatory variables (e.g., firm size, region, R&D spending) to better understand the factors that influence patent output.</p>\n",
        "\n",
        "\n",
        "### Estimation of Poisson Regression Model\n",
        "\n",
        "Next, we extend our simple Poisson model to a Poisson Regression Model such that $Y_i = \\text{Poisson}(\\lambda_i)$ where $\\lambda_i = \\exp(X_i'\\beta)$. The interpretation is that the success rate of patent awards is not constant across all firms ($\\lambda$) but rather is a function of firm characteristics $X_i$. Specifically, we will use the covariates age, age squared, region, and whether the firm is a customer of Blueprinty.\n",
        "\n",
        "_todo: Update your likelihood or log-likelihood function with an additional argument to take in a covariate matrix X. Also change the parameter of the model from lambda to the beta vector. In this model, lambda must be a positive number, so we choose the inverse link function g() to be exp() so that_ $\\lambda_i = e^{X_i'\\beta}$. _For example:_\n",
        "\n",
        "```\n",
        "poisson_regression_likelihood <- function(beta, Y, X){\n",
        "   ...\n",
        "}\n",
        "```\n",
        "\n",
        "_todo: Use your function along with R's optim() or Python's sp.optimize() to find the MLE vector and the Hessian of the Poisson model with covariates. Specifically, the first column of X should be all 1's to enable a constant term in the model, and the subsequent columns should be age, age squared, binary variables for all but one of the regions, and the binary customer variable. Use the Hessian to find standard errors of the beta parameter estimates and present a table of coefficients and standard errors._\n"
      ],
      "id": "6a19debe"
    },
    {
      "cell_type": "code",
      "metadata": {},
      "source": [
        "import numpy as np\n",
        "import pandas as pd\n",
        "from scipy.special import gammaln\n",
        "from sklearn.preprocessing import StandardScaler\n",
        "from scipy.optimize import minimize\n",
        "\n",
        "# Add a constant column for the intercept\n",
        "blueprinty['constant'] = 1\n",
        "\n",
        "# Calculate age squared\n",
        "blueprinty['age_squared'] = blueprinty['age'] ** 2\n",
        "\n",
        "# Create dummy variables for the 'region' and drop the original 'region' column\n",
        "region_dummies = pd.get_dummies(blueprinty['region'], drop_first=True)\n",
        "print(region_dummies)\n",
        "blueprinty = pd.concat([blueprinty.drop(columns=['region'], errors='ignore'), region_dummies], axis=1)\n",
        "\n",
        "# Check if all expected columns are present\n",
        "print(\"Columns in dataframe:\", blueprinty.columns)"
      ],
      "id": "3c366038",
      "execution_count": null,
      "outputs": []
    },
    {
      "cell_type": "code",
      "metadata": {},
      "source": [
        "# Define the log-likelihood function for Poisson regression\n",
        "def poisson_regression_loglikelihood(beta, Y, X):\n",
        "    # Debugging shapes\n",
        "    print(\"Shape of beta:\", beta.shape)\n",
        "    print(\"Shape of X:\", X.shape)\n",
        "\n",
        "    # Compute product of X and beta\n",
        "    product = np.dot(X, beta)\n",
        "    print(\"Product shape:\", product.shape)\n",
        "\n",
        "    # Apply exponential function with clipping to avoid overflow\n",
        "    lambda_i = np.exp(np.clip(product, -np.inf, 20))\n",
        "\n",
        "    # Compute log-likelihood\n",
        "    log_likelihood = np.sum(Y * np.log(lambda_i) - lambda_i - gammaln(Y + 1))\n",
        "    return -log_likelihood"
      ],
      "id": "db100a6a",
      "execution_count": null,
      "outputs": []
    },
    {
      "cell_type": "code",
      "metadata": {},
      "source": [
        "# Define covariates and construct X and Y matrices\n",
        "covariates = ['constant', 'age', 'age_squared', 'iscustomer'] + list(region_dummies.columns)\n",
        "X = blueprinty[covariates].values\n",
        "Y = blueprinty['patents'].values"
      ],
      "id": "30f60aed",
      "execution_count": null,
      "outputs": []
    },
    {
      "cell_type": "code",
      "metadata": {},
      "source": [
        "# Define the log-likelihood function for Poisson regression\n",
        "def neg_log_likelihood(beta, Y, X):\n",
        "    product = np.dot(X, beta)\n",
        "    lambda_i = np.exp(np.clip(product, -np.inf, 20))  # Avoid overflow\n",
        "    return -np.sum(Y * np.log(lambda_i) - lambda_i - gammaln(Y + 1))\n",
        "\n",
        "# Prepare data for regression\n",
        "covariates = ['constant', 'age', 'age_squared', 'iscustomer'] + list(region_dummies.columns)\n",
        "X = blueprinty[covariates].values\n",
        "Y = blueprinty['patents'].values\n",
        "\n",
        "\n",
        "# Scale features except for the intercept\n",
        "scaler = StandardScaler()\n",
        "X_scaled = scaler.fit_transform(X[:, 1:])  # Assuming first column is intercept\n",
        "X_scaled = np.hstack((np.ones((X.shape[0], 1)), X_scaled))  # Add intercept back\n",
        "\n",
        "# Initial guess for beta - small random values near zero\n",
        "beta_initial = np.random.normal(loc=0.0, scale=0.1, size=X_scaled.shape[1])\n",
        "\n",
        "# Run the optimization to find the MLE for beta\n",
        "result = minimize(\n",
        "    neg_log_likelihood, beta_initial, args=(Y, X_scaled),\n",
        "    method='L-BFGS-B', options={'disp': True, 'maxiter': 500}\n",
        ")"
      ],
      "id": "54b13593",
      "execution_count": null,
      "outputs": []
    },
    {
      "cell_type": "markdown",
      "metadata": {},
      "source": [
        "### Interpretation of the Optimization Process\n",
        "\n",
        "*   **Function Value (F)**: The final function value, F\\=3275.85F = 3275.85F\\=3275.85, represents the negative log-likelihood at the optimal parameters. The lower this value, the better the fit of the model to your data, assuming the model structure is appropriate.\n",
        "*   **Projected Gradient (Projg)**: The norm of the final projected gradient being 5.543×10−25.543 \\\\times 10^{-2}5.543×10−2 is quite small. This suggests that the optimization algorithm has effectively minimized the function, as changes in the parameter values would no longer significantly decrease the function value.\n",
        "*   **Convergence Message**: \"CONVERGENCE: REL\\_REDUCTION\\_OF\\_F\\_<=\\_FACTR\\*EPSMCH\" indicates that the relative reduction in the function value has reached a threshold that is considered sufficient for convergence, based on the precision of the machine. This means the optimization has likely found a stable point that is close to the true minimum.\n",
        "\n",
        "### Estimated Coefficients\n",
        "\n",
        "The coefficients you obtained:\n",
        "\n",
        "*   **Intercept (Constant)**: 1.2151.2151.215\n",
        "*   **Age**: 1.0461.0461.046\n",
        "*   **Age Squared**: −1.141\\-1.141−1.141\n",
        "*   **Is Customer**: 0.1180.1180.118\n",
        "*   **Region Variables**: These include slight adjustments for regions which seem to have small but potentially meaningful impacts compared to a baseline region (omitted in your dummy coding).\n",
        "\n",
        "### Interpreting Coefficients\n",
        "\n",
        "*   **Age and Age Squared**: The positive coefficient for age and the negative coefficient for age squared suggest a quadratic relationship. Initially, the number of patents increases with age but starts to decrease as age squared becomes more influential. This could indicate that there’s an optimal age for productivity in terms of patents, beyond which it declines.\n",
        "*   **Is Customer**: The positive coefficient for being a customer (0.1180.1180.118) implies that customers, on average, have a higher expected count of patents, holding other factors constant. This could be interpreted as a beneficial effect of being a customer on patent output.\n",
        "*   **Regional Effects**: The coefficients for the regions adjust the baseline expectation of patent counts relative to the omitted region. These effects are relatively small, indicating that while there are regional differences, they are not as pronounced as the effects of age or customer status.\n",
        "\n",
        "_todo: Check your results using R's glm() function or Python sm.GLM() function._\n",
        "\n",
        "\n",
        "\n",
        "_todo: Interpret the results. What do you conclude about the effect of Blueprinty's software on patent success?_\n",
        "\n",
        "\n",
        "\n",
        "\n",
        "## AirBnB Case Study\n",
        "\n",
        "### Introduction\n",
        "\n",
        "AirBnB is a popular platform for booking short-term rentals. In March 2017, students Annika Awad, Evan Lebo, and Anna Linden scraped of 40,000 Airbnb listings from New York City.  The data include the following variables:\n",
        "\n",
        ":::: {.callout-note collapse=\"true\"}\n",
        "### Variable Definitions\n",
        "\n",
        "    - `id` = unique ID number for each unit\n",
        "    - `last_scraped` = date when information scraped\n",
        "    - `host_since` = date when host first listed the unit on Airbnb\n",
        "    - `days` = `last_scraped` - `host_since` = number of days the unit has been listed\n",
        "    - `room_type` = Entire home/apt., Private room, or Shared room\n",
        "    - `bathrooms` = number of bathrooms\n",
        "    - `bedrooms` = number of bedrooms\n",
        "    - `price` = price per night (dollars)\n",
        "    - `number_of_reviews` = number of reviews for the unit on Airbnb\n",
        "    - `review_scores_cleanliness` = a cleanliness score from reviews (1-10)\n",
        "    - `review_scores_location` = a \"quality of location\" score from reviews (1-10)\n",
        "    - `review_scores_value` = a \"quality of value\" score from reviews (1-10)\n",
        "    - `instant_bookable` = \"t\" if instantly bookable, \"f\" if not\n",
        "\n",
        "::::\n",
        "\n",
        "\n",
        "_todo: Assume the number of reviews is a good proxy for the number of bookings. Perform some exploratory data analysis to get a feel for the data, handle or drop observations with missing values on relevant variables, build one or more models (e.g., a poisson regression model for the number of bookings as proxied by the number of reviews), and interpret model coefficients to describe variation in the number of reviews as a function of the variables provided._\n"
      ],
      "id": "f9cd8707"
    }
  ],
  "metadata": {
    "kernelspec": {
      "name": "python3",
      "language": "python",
      "display_name": "Python 3 (ipykernel)"
    }
  },
  "nbformat": 4,
  "nbformat_minor": 5
}