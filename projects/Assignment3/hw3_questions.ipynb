{
  "cells": [
    {
      "cell_type": "raw",
      "metadata": {},
      "source": [
        "---\n",
        "title: \"Poisson Regression Examples\"\n",
        "author: \"Bansari Kathrotia\"\n",
        "date: \"May 16, 2024\"\n",
        "callout-appearance: minimal # this hides the blue \"i\" icon on .callout-notes\n",
        "editor_options: \n",
        "  chunk_output_type: console\n",
        "---"
      ],
      "id": "f888fe1f"
    },
    {
      "cell_type": "markdown",
      "metadata": {},
      "source": [
        "This assignment uses the MNL model to analyze (1) yogurt purchase data made by consumers at a retail location, and (2) conjoint data about consumer preferences for minivans.\n",
        "\n",
        "\n",
        "## 1. Estimating Yogurt Preferences\n",
        "\n",
        "### Likelihood for the Multi-nomial Logit (MNL) Model\n",
        "\n",
        "Suppose we have $i=1,\\ldots,n$ consumers who each select exactly one product $j$ from a set of $J$ products. The outcome variable is the identity of the product chosen $y_i \\in \\{1, \\ldots, J\\}$ or equivalently a vector of $J-1$ zeros and $1$ one, where the $1$ indicates the selected product. For example, if the third product was chosen out of 4 products, then either $y=3$ or $y=(0,0,1,0)$ depending on how we want to represent it. Suppose also that we have a vector of data on each product $x_j$ (eg, size, price, etc.). \n",
        "\n",
        "We model the consumer's decision as the selection of the product that provides the most utility, and we'll specify the utility function as a linear function of the product characteristics:\n",
        "\n",
        "$$ U_{ij} = x_j'\\beta + \\epsilon_{ij} $$\n",
        "\n",
        "where $\\epsilon_{ij}$ is an i.i.d. extreme value error term. \n",
        "\n",
        "The choice of the i.i.d. extreme value error term leads to a closed-form expression for the probability that consumer $i$ chooses product $j$:\n",
        "\n",
        "$$ \\mathbb{P}_i(j) = \\frac{e^{x_j'\\beta}}{\\sum_{k=1}^Je^{x_k'\\beta}} $$\n",
        "\n",
        "For example, if there are 4 products, the probability that consumer $i$ chooses product 3 is:\n",
        "\n",
        "$$ \\mathbb{P}_i(3) = \\frac{e^{x_3'\\beta}}{e^{x_1'\\beta} + e^{x_2'\\beta} + e^{x_3'\\beta} + e^{x_4'\\beta}} $$\n",
        "\n",
        "A clever way to write the individual likelihood function for consumer $i$ is the product of the $J$ probabilities, each raised to the power of an indicator variable ($\\delta_{ij}$) that indicates the chosen product:\n",
        "\n",
        "$$ L_i(\\beta) = \\prod_{j=1}^J \\mathbb{P}_i(j)^{\\delta_{ij}} = \\mathbb{P}_i(1)^{\\delta_{i1}} \\times \\ldots \\times \\mathbb{P}_i(J)^{\\delta_{iJ}}$$\n",
        "\n",
        "Notice that if the consumer selected product $j=3$, then $\\delta_{i3}=1$ while $\\delta_{i1}=\\delta_{i2}=\\delta_{i4}=0$ and the likelihood is:\n",
        "\n",
        "$$ L_i(\\beta) = \\mathbb{P}_i(1)^0 \\times \\mathbb{P}_i(2)^0 \\times \\mathbb{P}_i(3)^1 \\times \\mathbb{P}_i(4)^0 = \\mathbb{P}_i(3) = \\frac{e^{x_3'\\beta}}{\\sum_{k=1}^Je^{x_k'\\beta}} $$\n",
        "\n",
        "The joint likelihood (across all consumers) is the product of the $n$ individual likelihoods:\n",
        "\n",
        "$$ L_n(\\beta) = \\prod_{i=1}^n L_i(\\beta) = \\prod_{i=1}^n \\prod_{j=1}^J \\mathbb{P}_i(j)^{\\delta_{ij}} $$\n",
        "\n",
        "And the joint log-likelihood function is:\n",
        "\n",
        "$$ \\ell_n(\\beta) = \\sum_{i=1}^n \\sum_{j=1}^J \\delta_{ij} \\log(\\mathbb{P}_i(j)) $$\n",
        "\n",
        "\n",
        "### Yogurt Dataset\n",
        "\n",
        "We will use the `yogurt_data` dataset, which provides anonymized consumer identifiers (`id`), a vector indicating the chosen product (`y1`:`y4`), a vector indicating if any products were \"featured\" in the store as a form of advertising (`f1`:`f4`), and the products' prices (`p1`:`p4`). For example, consumer 1 purchased yogurt 4 at a price of 0.079/oz and none of the yogurts were featured/advertised at the time of consumer 1's purchase.  Consumers 2 through 7 each bought yogurt 2, etc.\n"
      ],
      "id": "810bc95e"
    },
    {
      "cell_type": "code",
      "metadata": {
        "message": false
      },
      "source": [
        "#| echo: false\n",
        "\n",
        "import pandas as pd\n",
        "import numpy as np"
      ],
      "id": "5ad500eb",
      "execution_count": null,
      "outputs": []
    },
    {
      "cell_type": "code",
      "metadata": {
        "message": true
      },
      "source": [
        "#| echo: false\n",
        "\n",
        "yogurt = pd.read_csv(\"yogurt_data.csv\")\n",
        "yogurt"
      ],
      "id": "c45541a6",
      "execution_count": null,
      "outputs": []
    },
    {
      "cell_type": "markdown",
      "metadata": {},
      "source": [
        "The dataset contains the following columns:\n",
        "\n",
        "*   `id`: Unique identifier for each consumer.\n",
        "*   `y1` to `y4`: Binary indicators showing which of the four yogurts was chosen by the consumer. Only one of these columns will have a value of `1` per row, indicating the chosen product.\n",
        "*   `f1` to `f4`: Binary indicators showing whether each of the four yogurts was featured (advertised) in the store at the time of the purchase.\n",
        "*   `p1` to `p4`: Numeric values representing the price per ounce of each of the four yogurts.\n",
        "\n",
        "From the preview of the data:\n",
        "\n",
        "*   In the first row, consumer with `id` 1 purchased yogurt 4 (as indicated by `y4` = 1) at a price of 0.079 per ounce. None of the yogurts were featured.\n",
        "*   Subsequent rows show similar data for other consumers, indicating their choices and the conditions (price and whether the product was featured) under each product.\n",
        "\n",
        "\n",
        "Let the vector of product features include brand dummy variables for yogurts 1-3 (we'll omit a dummy for product 4 to avoid multi-collinearity), a dummy variable to indicate if a yogurt was featured, and a continuous variable for the yogurts' prices:  \n",
        "\n",
        "$$ x_j' = [\\mathbbm{1}(\\text{Yogurt 1}), \\mathbbm{1}(\\text{Yogurt 2}), \\mathbbm{1}(\\text{Yogurt 3}), X_f, X_p] $$\n",
        "\n",
        "The \"hard part\" of the MNL likelihood function is organizing the data, as we need to keep track of 3 dimensions (consumer $i$, covariate $k$, and product $j$) instead of the typical 2 dimensions for cross-sectional regression models (consumer $i$ and covariate $k$). \n",
        "\n",
        "What we would like to do is reorganize the data from a \"wide\" shape with $n$ rows and multiple columns for each covariate, to a \"long\" shape with $n \\times J$ rows and a single column for each covariate.  As part of this re-organization, we'll add binary variables to indicate the first 3 products; the variables for featured and price are included in the dataset and simply need to be \"pivoted\" or \"melted\" from wide to long.  \n",
        "\n",
        "Let's reshape the dataset for analysis:\n"
      ],
      "id": "43162374"
    },
    {
      "cell_type": "code",
      "metadata": {
        "message": false
      },
      "source": [
        "#| echo: false\n",
        "\n",
        "# Define the columns corresponding to choices, features, and prices\n",
        "choice_columns = [f'y{j}' for j in range(1, 5)]\n",
        "feature_columns = [f'f{j}' for j in range(1, 5)]\n",
        "price_columns = [f'p{j}' for j in range(1, 5)]"
      ],
      "id": "1d7d4ce8",
      "execution_count": null,
      "outputs": []
    },
    {
      "cell_type": "code",
      "metadata": {
        "message": false
      },
      "source": [
        "#| echo: false\n",
        "\n",
        "# Convert wide format to long format using the correct dataset name \"yogurt\"\n",
        "long_data_final = pd.DataFrame()\n",
        "\n",
        "# Loop through each product to create the long format data\n",
        "for j in range(1, 5):\n",
        "    temp_df = yogurt[['id', f'y{j}', f'f{j}', f'p{j}']].copy()\n",
        "    temp_df.columns = ['id', 'choice', 'featured', 'price']\n",
        "    temp_df['product'] = j\n",
        "    long_data_final = pd.concat([long_data_final, temp_df], ignore_index=True)"
      ],
      "id": "320a2661",
      "execution_count": null,
      "outputs": []
    },
    {
      "cell_type": "code",
      "metadata": {
        "message": true
      },
      "source": [
        "#| echo: false\n",
        "\n",
        "# Adding dummy variables for the first three products\n",
        "long_data_final['brand1'] = (long_data_final['product'] == 1).astype(int)\n",
        "long_data_final['brand2'] = (long_data_final['product'] == 2).astype(int)\n",
        "long_data_final['brand3'] = (long_data_final['product'] == 3).astype(int)\n",
        "\n",
        "# Display the reshaped data\n",
        "long_data_final.head()"
      ],
      "id": "4bf24420",
      "execution_count": null,
      "outputs": []
    },
    {
      "cell_type": "markdown",
      "metadata": {},
      "source": [
        "The dataset has been reshaped into the long format using the dataset named \"yogurt\". Here is the structure of the transformed data:\n",
        "\n",
        "*   `id`: Consumer identifier.\n",
        "*   `choice`: Indicates whether the consumer chose this product (1 if chosen, 0 otherwise).\n",
        "*   `featured`: Indicates whether the product was featured (1 if featured, 0 otherwise).\n",
        "*   `price`: Price per ounce of the product.\n",
        "*   `product`: Product number (1 through 4).\n",
        "*   `brand1`, `brand2`, `brand3`: Dummy variables for the first three products, with the fourth product omitted to avoid multicollinearity.\n",
        "\n",
        "\n",
        "### Estimation\n",
        "\n",
        "\n",
        "1.  **Utility Function**: Calculates the utility for each product based on the beta coefficients and the features in the dataset.\n",
        "2.  **Probability Calculation**: Determines the probabilities of choosing each product by a consumer, factoring in the utilities of all available products for normalization.\n",
        "3.  **Log-Likelihood**: Computes the log of these probabilities where the product was actually chosen (where `choice == 1`) and sums these values to obtain the log-likelihood for the dataset given the model parameters.\n"
      ],
      "id": "298469eb"
    },
    {
      "cell_type": "code",
      "metadata": {
        "message": true
      },
      "source": [
        "#| echo: false\n",
        "\n",
        "import numpy as np\n",
        "import pandas as pd\n",
        "\n",
        "# Defining the utility function\n",
        "def utility_function(data, beta):\n",
        "    # Utility is a linear combination of the features\n",
        "    # beta: [beta_brand1, beta_brand2, beta_brand3, beta_featured, beta_price]\n",
        "    utility = (data['brand1'] * beta[0] +\n",
        "               data['brand2'] * beta[1] +\n",
        "               data['brand3'] * beta[2] +\n",
        "               data['featured'] * beta[3] +\n",
        "               data['price'] * beta[4])\n",
        "    return utility\n",
        "\n",
        "# Function to calculate the probabilities\n",
        "def calculate_probabilities(data, beta):\n",
        "    data['utility'] = utility_function(data, beta)\n",
        "    # Calculating the exponential of utilities for each consumer\n",
        "    max_util = data.groupby('id')['utility'].transform('max')  # Stability improvement\n",
        "    data['exp_utilities'] = np.exp(data['utility'] - max_util)  # Subtracting max for numerical stability\n",
        "    sum_exp_utilities = data.groupby('id')['exp_utilities'].transform('sum')\n",
        "    data['probability'] = data['exp_utilities'] / sum_exp_utilities\n",
        "    return data\n",
        "\n",
        "# Function to calculate the log-likelihood\n",
        "def log_likelihood(data, beta):\n",
        "    data = calculate_probabilities(data, beta)\n",
        "    # Only taking logs of probabilities where choice is 1\n",
        "    log_probs = np.log(data.loc[data['choice'] == 1, 'probability'])\n",
        "    return log_probs.sum()\n",
        "\n",
        "# Example usage with hypothetical beta coefficients\n",
        "beta_example = [0.5, -0.3, 0.2, 0.1, -0.05]\n",
        "# Assuming 'long_data_final' is your DataFrame after reshaping and adding dummy variables\n",
        "log_likelihood_value = log_likelihood(long_data_final, beta_example)\n",
        "print(\"Log-Likelihood Value:\", log_likelihood_value)"
      ],
      "id": "f4bb9f19",
      "execution_count": null,
      "outputs": []
    },
    {
      "cell_type": "markdown",
      "metadata": {},
      "source": [
        "Optimizin gthe model to find the MLEs for the 5 parameters ($\\beta_1, \\beta_2, \\beta_3, \\beta_f, \\beta_p$).  (Hint: you should find 2 positive and 1 negative product intercepts, a small positive coefficient estimate for featured, and a large negative coefficient estimate for price.)\n"
      ],
      "id": "baa73704"
    },
    {
      "cell_type": "code",
      "metadata": {
        "message": true
      },
      "source": [
        "#| echo: false\n",
        "\n",
        "from scipy.optimize import minimize\n",
        "\n",
        "# Define the negative log-likelihood function\n",
        "def negative_log_likelihood(beta, data):\n",
        "    return -log_likelihood(data, beta)\n",
        "\n",
        "# Initial guess for beta coefficients\n",
        "initial_beta = [0.1, 0.1, 0.1, 0.1, -0.1]\n",
        "\n",
        "# Define bounds for the parameters\n",
        "bounds = [(None, None), (None, None), (None, None), (0, None), (None, 0)]"
      ],
      "id": "382a320b",
      "execution_count": null,
      "outputs": []
    },
    {
      "cell_type": "code",
      "metadata": {
        "message": true
      },
      "source": [
        "#| echo: true\n",
        "\n",
        "# Optimization to find the MLE of the beta coefficients\n",
        "result = minimize(negative_log_likelihood, initial_beta, args=(long_data_final,), \n",
        "                  method='L-BFGS-B', bounds=bounds)\n",
        "\n",
        "# Print the optimization results\n",
        "print(\"Optimization Success:\", result.success)\n",
        "print(\"Estimated beta coefficients:\", result.x)"
      ],
      "id": "ccab26e4",
      "execution_count": null,
      "outputs": []
    },
    {
      "cell_type": "markdown",
      "metadata": {},
      "source": [
        "### Discussion\n",
        "\n",
        "We learn...\n",
        "\n",
        "From the three product intercepts from the estimated beta coefficients for Brands 1, 2, and 3, we can gauge consumer preferences among the yogurt options relative to the baseline (Brand 4, which does not have a specific intercept and is implied as zero in the model). Here’s how to interpret the intercepts:\n",
        "\n",
        "1.  **Beta for Brand 1 (`beta_1`)**: 1.388\n",
        "    \n",
        "    *   This positive intercept suggests that, holding other factors constant (such as price and whether the product was featured), Brand 1 is preferred over Brand 4. The higher positive value indicates a strong preference for this brand.\n",
        "2.  **Beta for Brand 2 (`beta_2`)**: 0.644\n",
        "    \n",
        "    *   Similarly, this positive intercept indicates a preference for Brand 2 over Brand 4, though the preference is less strong compared to Brand 1. Brand 2 is still preferred but not as much as Brand 1.\n",
        "3.  **Beta for Brand 3 (`beta_3`)**: −3.086\n",
        "    \n",
        "    *   The negative value of this intercept indicates that Brand 3 is less preferred compared to Brand 4. This substantial negative value suggests a strong aversion to Brand 3 relative to the other options.\n",
        "\n",
        "### Which yogurt is most preferred?\n",
        "\n",
        "Based on the magnitude and direction of the beta coefficients:\n",
        "\n",
        "*   **Brand 1** is the most preferred yogurt among the options. It has the highest positive intercept, indicating the strongest preference relative to the baseline (Brand 4).\n",
        "*   **Brand 2** is also preferred over the baseline but to a lesser extent than Brand 1.\n",
        "*   **Brand 3** is the least preferred, with a significant negative intercept indicating a strong preference against it compared to Brand 4.\n",
        "\n",
        "This interpretation can help in strategic decisions related to marketing and product placement, such as focusing promotional efforts on Brands 1 and 2, considering price adjustments or rebranding for Brand 3, and understanding the competitive position of Brand 4 as a potentially neutral or fallback option.\n",
        "\n",
        "\n",
        "*   **Identify the most and least preferred yogurts**:\n",
        "    \n",
        "    *   Most preferred: Brand 1 (intercept = 1.388)\n",
        "    *   Least preferred: Brand 3 (intercept = -3.086)\n",
        "*   **Calculate the difference in utilities** between the most preferred and least preferred yogurts:\n",
        "    \n",
        "*   **Use the price coefficient as a conversion factor**:\n",
        "    \n",
        "    *   Price coefficient (`beta_p`): −37.058\n",
        "    *   The price coefficient's magnitude indicates the decrease in the utility of purchasing a yogurt per dollar increase in its price. Therefore, it acts as a conversion factor from utility to dollar value.\n"
      ],
      "id": "ca5ef664"
    },
    {
      "cell_type": "code",
      "metadata": {
        "message": true
      },
      "source": [
        "#| echo: false\n",
        "\n",
        "# Calculated difference in utility from the coefficients for Brand 1 and Brand 3\n",
        "utility_difference = 1.388 - (-3.086)\n",
        "\n",
        "# Price coefficient\n",
        "price_coefficient = -37.058\n",
        "\n",
        "# Convert utility to dollar value using the price coefficient\n",
        "dollar_value_per_util = 1 / price_coefficient"
      ],
      "id": "c306f0d6",
      "execution_count": null,
      "outputs": []
    },
    {
      "cell_type": "code",
      "metadata": {
        "message": true
      },
      "source": [
        "#| echo: true\n",
        "\n",
        "# Calculate the dollar benefit\n",
        "dollar_benefit = utility_difference * dollar_value_per_util\n",
        "dollar_benefit"
      ],
      "id": "2612b2df",
      "execution_count": null,
      "outputs": []
    },
    {
      "cell_type": "markdown",
      "metadata": {},
      "source": [
        "The calculated dollar benefit between the most preferred yogurt (Brand 1) and the least preferred yogurt (Brand 3) is approximately \\-$0.121 per unit. This indicates that consumers might be willing to pay about 12 cents more per unit for Brand 1 over Brand 3 due to their difference in utility, based on the model estimates.\n",
        "\n",
        "This negative sign might initially seem counterintuitive, but it reflects how much less consumers would be willing to pay for the less preferred option (Brand 3). In other words, Brand 1 has a higher inherent value of about 12 cents per unit over Brand 3 in the eyes of consumers.\n",
        "\n",
        "This monetary measure effectively quantifies the brand value in dollar terms based on consumer preferences modeled by the MNL. This insight can be leveraged for pricing strategies and marketing efforts to enhance product positioning and profitability.\n",
        "\n",
        "One benefit of the MNL model is that we can simulate counterfactuals (eg, what if the price of yogurt 1 was $0.10/oz instead of $0.08/oz).\n",
        "\n",
        "\n",
        "To calculate the market shares and predict the changes in market share due to a price increase for Yogurt 1,\n",
        "\n",
        "*   **Calculate Current Market Shares**:\n",
        "    \n",
        "    *   Count the number of times each product was chosen and divide by the total number of observations.\n",
        "*   **Simulate the Effect of a Price Increase for Yogurt 1**:\n",
        "    \n",
        "    *   Increase the price of Yogurt 1 by $0.10 and use the fitted model to estimate the choice probabilities for each product and each consumer.\n",
        "    *   Calculate the expected market shares by taking the average of the choice probabilities across all consumers for each product.\n"
      ],
      "id": "eea331c2"
    },
    {
      "cell_type": "code",
      "metadata": {
        "message": true
      },
      "source": [
        "#| echo: true\n",
        "\n",
        "# Calculate the current market shares\n",
        "current_market_shares = long_data_final.groupby('product')['choice'].mean()\n",
        "print(\"Current Market Shares:\", current_market_shares)"
      ],
      "id": "70ac2247",
      "execution_count": null,
      "outputs": []
    },
    {
      "cell_type": "code",
      "metadata": {
        "message": true
      },
      "source": [
        "#| echo: false\n",
        "\n",
        "# Function to update the price of Yogurt 1 and calculate new probabilities\n",
        "def predict_new_market_shares(data, beta, price_increase=0.10):\n",
        "    # Create a copy to avoid modifying the original data\n",
        "    modified_data = data.copy()\n",
        "    \n",
        "    # Apply price increase to Yogurt 1\n",
        "    modified_data.loc[modified_data['product'] == 1, 'price'] += price_increase\n",
        "    \n",
        "    # Calculate new choice probabilities\n",
        "    modified_data = calculate_probabilities(modified_data, beta)\n",
        "    \n",
        "    # Calculate new market shares by averaging choice probabilities by product\n",
        "    new_market_shares = modified_data.groupby('product')['probability'].mean()\n",
        "    return new_market_shares"
      ],
      "id": "1cf1febc",
      "execution_count": null,
      "outputs": []
    },
    {
      "cell_type": "code",
      "metadata": {
        "message": true
      },
      "source": [
        "#| echo: true\n",
        "\n",
        "# Call the function with the original data and fitted beta coefficients\n",
        "new_market_shares = predict_new_market_shares(long_data_final, result.x)\n",
        "print(\"New Market Shares After Price Increase:\", new_market_shares)"
      ],
      "id": "e2e983ff",
      "execution_count": null,
      "outputs": []
    },
    {
      "cell_type": "markdown",
      "metadata": {},
      "source": [
        "Based on the results provided:\n",
        "\n",
        "### Current Market Shares:\n",
        "\n",
        "*   **Yogurt 1**: 34.2%\n",
        "*   **Yogurt 2**: 40.1%\n",
        "*   **Yogurt 3**: 2.9%\n",
        "*   **Yogurt 4**: 22.8%\n",
        "\n",
        "### New Market Shares After a $0.10 Price Increase to Yogurt 1:\n",
        "\n",
        "*   **Yogurt 1**: 2.1%\n",
        "*   **Yogurt 2**: 59.1%\n",
        "*   **Yogurt 3**: 4.4%\n",
        "*   **Yogurt 4**: 34.4%\n",
        "\n",
        "### Analysis:\n",
        "\n",
        "*   **Yogurt 1 Market Share**: The market share for Yogurt 1 drastically decreases from 34.2% to 2.1%. This significant reduction clearly indicates that the price sensitivity for Yogurt 1 is quite high, and even a modest price increase leads to a substantial shift in consumer preferences away from this product.\n",
        "*   **Shifts to Other Products**: The market shares of Yogurt 2, 3, and 4 all increase. Yogurt 2 benefits the most, with its market share increasing by nearly 19 percentage points. This suggests that consumers consider Yogurt 2 a close substitute for Yogurt 1, switching to it when Yogurt 1 becomes more expensive.\n",
        "*   **Yogurt 3 and 4**: Even though Yogurt 3 had a very low initial market share, it sees a relative increase, suggesting some consumers might switch to lower preference options if their first choice becomes less economically viable. Yogurt 4 also sees a notable increase in market share.\n",
        "\n",
        "### Conclusion:\n",
        "\n",
        "The $0.10 price increase for Yogurt 1 drastically reduces its market share, confirming the price sensitivity and showing a clear preference shift among consumers to other available options, particularly Yogurt 2. This demonstrates the importance of pricing strategies in competitive markets and highlights the value of using such models for predictive analytics in marketing and pricing decisions.\n",
        "\n",
        "\n",
        "## 2. Estimating Minivan Preferences\n",
        "\n",
        "\n",
        "### Data\n"
      ],
      "id": "a1331934"
    },
    {
      "cell_type": "code",
      "metadata": {
        "message": true
      },
      "source": [
        "#| echo: false\n",
        "\n",
        "import statsmodels.api as sm\n",
        "\n",
        "conjoint_data = pd.read_csv(\"rintro-chapter13conjoint.csv\")\n",
        "conjoint_data "
      ],
      "id": "a056d623",
      "execution_count": null,
      "outputs": []
    },
    {
      "cell_type": "markdown",
      "metadata": {},
      "source": [
        "The dataset `rintro-chapter13conjoint.csv` appears to contain data from a conjoint analysis, typically used to gauge consumer preferences across different product features. Here's a breakdown of the columns:\n",
        "\n",
        "*   `resp.id`: Identifier for respondents.\n",
        "*   `ques`: Question or scenario number.\n",
        "*   `alt`: Alternative options presented within each question.\n",
        "*   `carpool`: Indicates if the option includes a carpool feature (yes/no).\n",
        "*   `seat`: Number of seats.\n",
        "*   `cargo`: Cargo space.\n",
        "*   `eng`: Type of engine (e.g., 'gas' for gasoline, 'hyb' for hybrid).\n",
        "*   `price`: Price in thousands of dollars.\n",
        "*   `choice`: Binary indicator of whether the respondent chose this alternative (1 for chosen, 0 for not chosen).\n"
      ],
      "id": "4a38477b"
    },
    {
      "cell_type": "code",
      "metadata": {
        "message": true
      },
      "source": [
        "#| echo: false\n",
        "\n",
        "# Number of unique respondents\n",
        "num_respondents = conjoint_data['resp.id'].nunique()\n",
        "\n",
        "# Number of choice tasks per respondent\n",
        "tasks_per_respondent = conjoint_data.groupby('resp.id')['ques'].nunique()\n",
        "\n",
        "# Number of alternatives per choice task (assuming all respondents faced the same task structure)\n",
        "alternatives_per_task = conjoint_data.groupby(['resp.id', 'ques'])['alt'].nunique().mode()[0]"
      ],
      "id": "8e8f7518",
      "execution_count": null,
      "outputs": []
    },
    {
      "cell_type": "code",
      "metadata": {
        "message": true
      },
      "source": [
        "#| echo: true\n",
        "\n",
        "num_respondents, tasks_per_respondent.describe(), alternatives_per_task"
      ],
      "id": "a0bc50ae",
      "execution_count": null,
      "outputs": []
    },
    {
      "cell_type": "markdown",
      "metadata": {},
      "source": [
        "Here's a summary of the dataset based on the analysis:\n",
        "\n",
        "1.  **Number of Respondents**: There are 200 unique respondents who participated in the conjoint survey.\n",
        "    \n",
        "2.  **Choice Tasks Per Respondent**:\n",
        "    \n",
        "    *   Each respondent completed 15 choice tasks.\n",
        "    *   This is consistent across all respondents, as indicated by the lack of variability (standard deviation is 0).\n",
        "3.  **Alternatives Presented in Each Choice Task**:\n",
        "    \n",
        "    *   Each choice task presented 3 alternatives to the respondents.\n",
        "    *   This number is consistent across all tasks and respondents, as shown by the uniform count and lack of variability.\n",
        "\n",
        "\n",
        "The attributes (levels) were number of seats (6,7,8), cargo space (2ft, 3ft), engine type (gas, hybrid, electric), and price (in thousands of dollars).\n",
        "\n",
        "\n",
        "### Model\n",
        "\n",
        "Estimating a MNL model omitting the following levels to avoide multicollinearity (6 seats, 2ft cargo, and gas engine). Include price as a continuous variable. Show a table of coefficients and standard errors.  You may use your own likelihood function from above, or you may use a function from a package/library to perform the estimation.\n"
      ],
      "id": "aebc0114"
    },
    {
      "cell_type": "code",
      "metadata": {
        "message": true
      },
      "source": [
        "#| echo: false\n",
        "\n",
        "conjoint_data['carpool'] = conjoint_data['carpool'].map({'yes': 1, 'no': 0})\n",
        "conjoint_data = pd.get_dummies(conjoint_data, columns=['seat', 'cargo', 'eng'], drop_first=True)\n",
        "\n",
        "# Convert boolean columns to integer type\n",
        "conjoint_data['seat_7'] = conjoint_data['seat_7'].astype(int)\n",
        "conjoint_data['seat_8'] = conjoint_data['seat_8'].astype(int)\n",
        "conjoint_data['cargo_3ft'] = conjoint_data['cargo_3ft'].astype(int)\n",
        "conjoint_data['eng_hyb'] = conjoint_data['eng_hyb'].astype(int)\n",
        "\n",
        "# Ensure all data is numeric and handle any NaN values appropriately\n",
        "conjoint_data.fillna(0, inplace=True)  # Example: Fill NA/NaN values with zero\n",
        "conjoint_data = conjoint_data.apply(pd.to_numeric, errors='coerce')  # Coerce errors will convert non-convertible terms to NaN\n",
        "\n",
        "# Define the features and the target variable\n",
        "X = conjoint_data[['carpool', 'price', 'seat_7', 'seat_8', 'cargo_3ft', 'eng_hyb']]\n",
        "y = conjoint_data['choice']"
      ],
      "id": "9234a218",
      "execution_count": null,
      "outputs": []
    },
    {
      "cell_type": "code",
      "metadata": {
        "message": true
      },
      "source": [
        "#| echo: true\n",
        "\n",
        "# Adding a constant to the model (intercept)\n",
        "X = sm.add_constant(X)\n",
        "\n",
        "# Check if there are still any object types\n",
        "print(X.dtypes, y.dtypes)\n"
      ],
      "id": "1cc2a7bd",
      "execution_count": null,
      "outputs": []
    },
    {
      "cell_type": "code",
      "metadata": {
        "message": true
      },
      "source": [
        "#| echo: true\n",
        "\n",
        "# Fit the MNL model\n",
        "mnl_model = sm.MNLogit(y, X)\n",
        "mnl_result = mnl_model.fit()\n",
        "\n",
        "# Print the summary of the model\n",
        "print(mnl_result.summary())"
      ],
      "id": "df38f09c",
      "execution_count": null,
      "outputs": []
    },
    {
      "cell_type": "markdown",
      "metadata": {},
      "source": [
        "### Results\n",
        "\n",
        "*   **Price**: The negative coefficient for price (−0.1486) indicates that as the price increases, the likelihood of choosing that option decreases, as expected.\n",
        "*   **Seat 7 and Seat 8**: Both coefficients are negative, indicating less preference compared to the baseline (6 seats). The magnitude of the coefficient for Seat 7 is larger, suggesting a stronger negative preference compared to Seat 8.\n",
        "*   **Cargo 3**: The positive coefficient (0.4099) suggests a preference for more cargo space (3ft) over the baseline (2ft).\n",
        "*   **Eng Hyb**: The slight negative coefficient for the hybrid engine (−0.1102) suggests a slight aversion compared to the gasoline engine, although this effect is relatively small.\n",
        "\n",
        "These coefficients provide insights into the preferences of respondents regarding different features of the products presented in the conjoint study. The standard errors indicate the precision of these estimates, with all p-values being significant, showing strong evidence against the null hypothesis of no effect.\n",
        "\n",
        "\n",
        "Using the price coefficient as a dollar-per-util conversion factor. What is the dollar value of 3ft of cargo space as compared to 2ft of cargo space?\n"
      ],
      "id": "abe59384"
    },
    {
      "cell_type": "code",
      "metadata": {
        "message": true
      },
      "source": [
        "#| echo: true\n",
        "\n",
        "# Coefficients from the model\n",
        "cargo_3ft_coeff = mnl_result.params.loc['cargo_3ft'][0]\n",
        "price_coeff = mnl_result.params.loc['price'][0]\n",
        "\n",
        "# Calculate the dollar value of 3ft of cargo space compared to 2ft\n",
        "dollar_value_cargo_3ft = cargo_3ft_coeff / -price_coeff\n",
        "dollar_value_cargo_3ft"
      ],
      "id": "11e9d1d4",
      "execution_count": null,
      "outputs": []
    },
    {
      "cell_type": "markdown",
      "metadata": {},
      "source": [
        "The dollar value of having 3ft of cargo space as compared to 2ft, based on the estimated model coefficients, is approximately **$2.76**.\n",
        "\n",
        "This means that, according to the model, consumers would be willing to pay an additional $2.76 for a vehicle option that offers 3ft of cargo space over one that offers only 2ft, all else being equal. This calculation converts the utility gained from larger cargo space into a monetary equivalent using the sensitivity of consumer choices to changes in price.\n",
        "\n",
        "\n",
        "Assuming the market consists of the following 6 minivans. Predict the market shares of each minivan in the market.\n",
        "\n",
        "| Minivan | Seats | Cargo | Engine | Price |\n",
        "|---------|-------|-------|--------|-------|\n",
        "| A       | 7     | 2     | Hyb    | 30    |\n",
        "| B       | 6     | 2     | Gas    | 30    |\n",
        "| C       | 8     | 2     | Gas    | 30    |\n",
        "| D       | 7     | 3     | Gas    | 40    |\n",
        "| E       | 6     | 2     | Elec   | 40    |\n",
        "| F       | 7     | 2     | Hyb    | 35    |\n"
      ],
      "id": "20a150d7"
    },
    {
      "cell_type": "code",
      "metadata": {
        "message": true
      },
      "source": [
        "#| echo: false\n",
        "\n",
        "\n",
        "import numpy as np\n",
        "\n",
        "# Define the minivan market configuration\n",
        "minivans = pd.DataFrame({\n",
        "    'Minivan': ['A', 'B', 'C', 'D', 'E', 'F'],\n",
        "    'Seats': [7, 6, 8, 7, 6, 7],\n",
        "    'Cargo': [2, 2, 2, 3, 2, 2],\n",
        "    'Engine': ['Hyb', 'Gas', 'Gas', 'Gas', 'Elec', 'Hyb'],\n",
        "    'Price': [30, 30, 30, 40, 40, 35]\n",
        "})\n",
        "\n",
        "# Convert categorical data to the model format (one-hot encoding)\n",
        "minivans['seat_7'] = (minivans['Seats'] == 7).astype(int)\n",
        "minivans['seat_8'] = (minivans['Seats'] == 8).astype(int)\n",
        "minivans['cargo_3ft'] = (minivans['Cargo'] == 3).astype(int)\n",
        "minivans['eng_hyb'] = (minivans['Engine'] == 'Hyb').astype(int)\n",
        "minivans['eng_elec'] = (minivans['Engine'] == 'Elec').astype(int)\n",
        "\n",
        "# Setup the features for utility calculation\n",
        "X_minivans = minivans[['seat_7', 'seat_8', 'cargo_3ft', 'eng_hyb', 'eng_elec', 'Price']]\n",
        "X_minivans = sm.add_constant(X_minivans)  # add constant for the intercept"
      ],
      "id": "c83bbbf8",
      "execution_count": null,
      "outputs": []
    },
    {
      "cell_type": "code",
      "metadata": {
        "message": true
      },
      "source": [
        "#| echo: true\n",
        "\n",
        "\n",
        "# Calculate utilities for each minivan\n",
        "utilities = np.dot(X_minivans, mnl_result.params.values)\n",
        "# Compute market shares using softmax function\n",
        "market_shares = np.exp(utilities) / np.sum(np.exp(utilities), axis=0)\n",
        "\n",
        "# Add market shares to the minivans dataframe\n",
        "minivans['Market Share'] = market_shares\n",
        "minivans[['Minivan', 'Market Share']]"
      ],
      "id": "d476a550",
      "execution_count": null,
      "outputs": []
    },
    {
      "cell_type": "markdown",
      "metadata": {},
      "source": [
        "### Market Share Interpretation\n",
        "\n",
        "1.  **Minivan B (26.40%)**:\n",
        "    \n",
        "    *   **Attributes**: 6 seats, 2ft cargo, Gas engine, priced at $30.\n",
        "    *   **Interpretation**: This option has the highest market share, which suggests that a lower price combined with the base features (6 seats, Gas engine) is highly attractive to consumers. The absence of additional features seems to be offset by the lower price.\n",
        "2.  **Minivan C (22.76%)**:\n",
        "    \n",
        "    *   **Attributes**: 8 seats, 2ft cargo, Gas engine, also priced at $30.\n",
        "    *   **Interpretation**: The second most popular option, indicating a strong preference for more seating capacity at no additional cost in price, suggesting that consumers value additional seating when all other factors are equal.\n",
        "3.  **Minivan A (20.42%)**:\n",
        "    \n",
        "    *   **Attributes**: 7 seats, 2ft cargo, Hybrid engine, priced at $30.\n",
        "    *   **Interpretation**: The presence of a Hybrid engine with moderate pricing and seat count shows significant consumer interest in more environmentally friendly options when they are not priced higher than gas models.\n",
        "4.  **Minivan E (13.21%)**:\n",
        "    \n",
        "    *   **Attributes**: 6 seats, 2ft cargo, Electric engine, priced at $40.\n",
        "    *   **Interpretation**: Indicates a moderate interest in electric vehicles, though the higher price seems to be a deterrent compared to cheaper gas options.\n",
        "5.  **Minivan F (11.77%)**:\n",
        "    \n",
        "    *   **Attributes**: 7 seats, 2ft cargo, Hybrid engine, priced at $35.\n",
        "    *   **Interpretation**: Similar to Minivan A but slightly more expensive, which slightly reduces its attractiveness despite the hybrid engine.\n",
        "6.  **Minivan D (5.45%)**:\n",
        "    \n",
        "    *   **Attributes**: 7 seats, 3ft cargo, Gas engine, priced at $40.\n",
        "    *   **Interpretation**: Despite offering more cargo space, its higher price significantly lowers its market share. This suggests that price sensitivity may outweigh the benefit of additional cargo space for many consumers.\n",
        "\n",
        "### Overall Insights\n",
        "\n",
        "*   **Price Sensitivity**: Price plays a crucial role in consumer choices, as seen by the higher market shares of the lower-priced models.\n",
        "*   **Preference for Seat Capacity**: There is a clear preference for higher seating capacity when the price is held constant.\n",
        "*   **Eco-friendly Options**: Consumers show interest in hybrid and electric vehicles, but their choices are sensitive to price differences.\n",
        "*   **Cargo Space Value**: Additional cargo space does not seem to drive higher market share, especially when accompanied by a higher price.\n",
        "\n",
        "These insights could be used to strategize product offerings, pricing decisions, and marketing campaigns by highlighting features that align with consumer preferences.\n",
        "\n",
        "\n",
        "_hint: this example is taken from the \"R 4 Marketing Research\" book by Chapman and Feit. I believe the same example is present in the companion book titled \"Python 4 Marketing Research\".  I encourage you to attempt these questions on your own, but if you get stuck or would like to compare you results to \"the answers,\" you may consult the Chapman and Feit books._\n"
      ],
      "id": "a0f20596"
    }
  ],
  "metadata": {
    "kernelspec": {
      "display_name": "Python 3",
      "language": "python",
      "name": "python3"
    }
  },
  "nbformat": 4,
  "nbformat_minor": 5
}